{
 "cells": [
  {
   "cell_type": "code",
   "execution_count": 1,
   "metadata": {},
   "outputs": [],
   "source": [
    "l = [1,2,3,4,5] #iterable"
   ]
  },
  {
   "cell_type": "code",
   "execution_count": null,
   "metadata": {},
   "outputs": [],
   "source": [
    "# not ignore the error"
   ]
  },
  {
   "cell_type": "code",
   "execution_count": 2,
   "metadata": {},
   "outputs": [
    {
     "ename": "TypeError",
     "evalue": "'list' object is not an iterator",
     "output_type": "error",
     "traceback": [
      "\u001b[1;31m---------------------------------------------------------------------------\u001b[0m",
      "\u001b[1;31mTypeError\u001b[0m                                 Traceback (most recent call last)",
      "\u001b[1;32m<ipython-input-2-cdc8a39da60d>\u001b[0m in \u001b[0;36m<module>\u001b[1;34m\u001b[0m\n\u001b[1;32m----> 1\u001b[1;33m \u001b[0mnext\u001b[0m\u001b[1;33m(\u001b[0m\u001b[0ml\u001b[0m\u001b[1;33m)\u001b[0m\u001b[1;33m\u001b[0m\u001b[1;33m\u001b[0m\u001b[0m\n\u001b[0m",
      "\u001b[1;31mTypeError\u001b[0m: 'list' object is not an iterator"
     ]
    }
   ],
   "source": [
    "next(l)"
   ]
  },
  {
   "cell_type": "code",
   "execution_count": 3,
   "metadata": {},
   "outputs": [],
   "source": [
    "# make it iterator \n",
    "il = iter(l)"
   ]
  },
  {
   "cell_type": "code",
   "execution_count": 4,
   "metadata": {},
   "outputs": [
    {
     "data": {
      "text/plain": [
       "1"
      ]
     },
     "execution_count": 4,
     "metadata": {},
     "output_type": "execute_result"
    }
   ],
   "source": [
    "next(il)"
   ]
  },
  {
   "cell_type": "code",
   "execution_count": null,
   "metadata": {},
   "outputs": [],
   "source": []
  },
  {
   "cell_type": "code",
   "execution_count": 5,
   "metadata": {},
   "outputs": [
    {
     "data": {
      "text/plain": [
       "2"
      ]
     },
     "execution_count": 5,
     "metadata": {},
     "output_type": "execute_result"
    }
   ],
   "source": [
    "next(il)"
   ]
  },
  {
   "cell_type": "code",
   "execution_count": 6,
   "metadata": {},
   "outputs": [
    {
     "data": {
      "text/plain": [
       "3"
      ]
     },
     "execution_count": 6,
     "metadata": {},
     "output_type": "execute_result"
    }
   ],
   "source": [
    "next(il)"
   ]
  },
  {
   "cell_type": "code",
   "execution_count": 7,
   "metadata": {},
   "outputs": [
    {
     "data": {
      "text/plain": [
       "4"
      ]
     },
     "execution_count": 7,
     "metadata": {},
     "output_type": "execute_result"
    }
   ],
   "source": [
    "next(il)"
   ]
  },
  {
   "cell_type": "code",
   "execution_count": 8,
   "metadata": {},
   "outputs": [
    {
     "data": {
      "text/plain": [
       "5"
      ]
     },
     "execution_count": 8,
     "metadata": {},
     "output_type": "execute_result"
    }
   ],
   "source": [
    "next(il)"
   ]
  },
  {
   "cell_type": "code",
   "execution_count": 10,
   "metadata": {},
   "outputs": [
    {
     "ename": "StopIteration",
     "evalue": "",
     "output_type": "error",
     "traceback": [
      "\u001b[1;31m---------------------------------------------------------------------------\u001b[0m",
      "\u001b[1;31mStopIteration\u001b[0m                             Traceback (most recent call last)",
      "\u001b[1;32m<ipython-input-10-fd4cefe92d1d>\u001b[0m in \u001b[0;36m<module>\u001b[1;34m\u001b[0m\n\u001b[1;32m----> 1\u001b[1;33m \u001b[0mnext\u001b[0m\u001b[1;33m(\u001b[0m\u001b[0mil\u001b[0m\u001b[1;33m)\u001b[0m \u001b[1;31m#no index available - next() have no idea where its needs to stop\u001b[0m\u001b[1;33m\u001b[0m\u001b[1;33m\u001b[0m\u001b[0m\n\u001b[0m",
      "\u001b[1;31mStopIteration\u001b[0m: "
     ]
    }
   ],
   "source": [
    "next(il) #no index available - next() have no idea where its needs to stop"
   ]
  },
  {
   "cell_type": "code",
   "execution_count": 11,
   "metadata": {},
   "outputs": [],
   "source": [
    "a = 56"
   ]
  },
  {
   "cell_type": "code",
   "execution_count": 12,
   "metadata": {},
   "outputs": [
    {
     "ename": "TypeError",
     "evalue": "'int' object is not an iterator",
     "output_type": "error",
     "traceback": [
      "\u001b[1;31m---------------------------------------------------------------------------\u001b[0m",
      "\u001b[1;31mTypeError\u001b[0m                                 Traceback (most recent call last)",
      "\u001b[1;32m<ipython-input-12-15841f3f11d4>\u001b[0m in \u001b[0;36m<module>\u001b[1;34m\u001b[0m\n\u001b[1;32m----> 1\u001b[1;33m \u001b[0mnext\u001b[0m\u001b[1;33m(\u001b[0m\u001b[0ma\u001b[0m\u001b[1;33m)\u001b[0m\u001b[1;33m\u001b[0m\u001b[1;33m\u001b[0m\u001b[0m\n\u001b[0m",
      "\u001b[1;31mTypeError\u001b[0m: 'int' object is not an iterator"
     ]
    }
   ],
   "source": [
    "next(a)"
   ]
  },
  {
   "cell_type": "code",
   "execution_count": 13,
   "metadata": {},
   "outputs": [
    {
     "ename": "TypeError",
     "evalue": "'int' object is not iterable",
     "output_type": "error",
     "traceback": [
      "\u001b[1;31m---------------------------------------------------------------------------\u001b[0m",
      "\u001b[1;31mTypeError\u001b[0m                                 Traceback (most recent call last)",
      "\u001b[1;32m<ipython-input-13-2b64cb055077>\u001b[0m in \u001b[0;36m<module>\u001b[1;34m\u001b[0m\n\u001b[1;32m----> 1\u001b[1;33m \u001b[0miter\u001b[0m\u001b[1;33m(\u001b[0m\u001b[0ma\u001b[0m\u001b[1;33m)\u001b[0m\u001b[1;33m\u001b[0m\u001b[1;33m\u001b[0m\u001b[0m\n\u001b[0m",
      "\u001b[1;31mTypeError\u001b[0m: 'int' object is not iterable"
     ]
    }
   ],
   "source": [
    "iter(a)"
   ]
  },
  {
   "cell_type": "code",
   "execution_count": 14,
   "metadata": {},
   "outputs": [],
   "source": [
    "#if the object is not a iterable object than we can not make a iterator at all\n"
   ]
  },
  {
   "cell_type": "code",
   "execution_count": 15,
   "metadata": {},
   "outputs": [],
   "source": [
    "t=(1,2,5)\n"
   ]
  },
  {
   "cell_type": "code",
   "execution_count": 16,
   "metadata": {},
   "outputs": [
    {
     "ename": "TypeError",
     "evalue": "'tuple' object is not an iterator",
     "output_type": "error",
     "traceback": [
      "\u001b[1;31m---------------------------------------------------------------------------\u001b[0m",
      "\u001b[1;31mTypeError\u001b[0m                                 Traceback (most recent call last)",
      "\u001b[1;32m<ipython-input-16-f843efe259be>\u001b[0m in \u001b[0;36m<module>\u001b[1;34m\u001b[0m\n\u001b[1;32m----> 1\u001b[1;33m \u001b[0mnext\u001b[0m\u001b[1;33m(\u001b[0m\u001b[0mt\u001b[0m\u001b[1;33m)\u001b[0m\u001b[1;33m\u001b[0m\u001b[1;33m\u001b[0m\u001b[0m\n\u001b[0m",
      "\u001b[1;31mTypeError\u001b[0m: 'tuple' object is not an iterator"
     ]
    }
   ],
   "source": [
    "next(t)\n"
   ]
  },
  {
   "cell_type": "code",
   "execution_count": 17,
   "metadata": {},
   "outputs": [],
   "source": [
    "# convert into iterator \n",
    "it = iter(t)"
   ]
  },
  {
   "cell_type": "code",
   "execution_count": 18,
   "metadata": {},
   "outputs": [
    {
     "data": {
      "text/plain": [
       "1"
      ]
     },
     "execution_count": 18,
     "metadata": {},
     "output_type": "execute_result"
    }
   ],
   "source": [
    "next(it)"
   ]
  },
  {
   "cell_type": "code",
   "execution_count": 19,
   "metadata": {},
   "outputs": [
    {
     "data": {
      "text/plain": [
       "range(0, 6)"
      ]
     },
     "execution_count": 19,
     "metadata": {},
     "output_type": "execute_result"
    }
   ],
   "source": [
    "range(6)"
   ]
  },
  {
   "cell_type": "code",
   "execution_count": 20,
   "metadata": {},
   "outputs": [],
   "source": [
    "r = range(6)"
   ]
  },
  {
   "cell_type": "code",
   "execution_count": 21,
   "metadata": {},
   "outputs": [
    {
     "ename": "TypeError",
     "evalue": "'range' object is not an iterator",
     "output_type": "error",
     "traceback": [
      "\u001b[1;31m---------------------------------------------------------------------------\u001b[0m",
      "\u001b[1;31mTypeError\u001b[0m                                 Traceback (most recent call last)",
      "\u001b[1;32m<ipython-input-21-8ebe59a56b1d>\u001b[0m in \u001b[0;36m<module>\u001b[1;34m\u001b[0m\n\u001b[1;32m----> 1\u001b[1;33m \u001b[0mnext\u001b[0m\u001b[1;33m(\u001b[0m\u001b[0mr\u001b[0m\u001b[1;33m)\u001b[0m\u001b[1;33m\u001b[0m\u001b[1;33m\u001b[0m\u001b[0m\n\u001b[0m",
      "\u001b[1;31mTypeError\u001b[0m: 'range' object is not an iterator"
     ]
    }
   ],
   "source": [
    "next(r)"
   ]
  },
  {
   "cell_type": "code",
   "execution_count": 22,
   "metadata": {},
   "outputs": [],
   "source": [
    "# make iterator \n",
    "it = iter(r)"
   ]
  },
  {
   "cell_type": "code",
   "execution_count": 23,
   "metadata": {},
   "outputs": [
    {
     "data": {
      "text/plain": [
       "0"
      ]
     },
     "execution_count": 23,
     "metadata": {},
     "output_type": "execute_result"
    }
   ],
   "source": [
    "next(it )"
   ]
  },
  {
   "cell_type": "code",
   "execution_count": 24,
   "metadata": {},
   "outputs": [
    {
     "data": {
      "text/plain": [
       "1"
      ]
     },
     "execution_count": 24,
     "metadata": {},
     "output_type": "execute_result"
    }
   ],
   "source": [
    "next(it )"
   ]
  },
  {
   "cell_type": "markdown",
   "metadata": {},
   "source": [
    "### Generator"
   ]
  },
  {
   "cell_type": "markdown",
   "metadata": {},
   "source": [
    "#### Generator: -it is a kind of an object which allow to hold the information  about a previous dataset that u have generated and logic by which u have generated a previous dataset so that u will be able to generate the next data or next information."
   ]
  },
  {
   "cell_type": "code",
   "execution_count": 25,
   "metadata": {},
   "outputs": [],
   "source": [
    "# ex: generate some sort of sequences\n"
   ]
  },
  {
   "cell_type": "code",
   "execution_count": 28,
   "metadata": {},
   "outputs": [
    {
     "data": {
      "text/plain": [
       "range(0, 45, 3)"
      ]
     },
     "execution_count": 28,
     "metadata": {},
     "output_type": "execute_result"
    }
   ],
   "source": [
    "range(45) # range is generating some values based on some conditin and logic\n",
    "range(0,45,3)\n"
   ]
  },
  {
   "cell_type": "code",
   "execution_count": 29,
   "metadata": {},
   "outputs": [
    {
     "data": {
      "text/plain": [
       "[0, 3, 6, 9, 12, 15, 18, 21, 24, 27, 30, 33, 36, 39, 42]"
      ]
     },
     "execution_count": 29,
     "metadata": {},
     "output_type": "execute_result"
    }
   ],
   "source": [
    "list(range(0,45,3))"
   ]
  },
  {
   "cell_type": "code",
   "execution_count": 41,
   "metadata": {},
   "outputs": [],
   "source": [
    "# write a generator to generate a cube  - problem with this tyoefunction"
   ]
  },
  {
   "cell_type": "code",
   "execution_count": 39,
   "metadata": {},
   "outputs": [],
   "source": [
    "def gen_cube(n):\n",
    "    l = []\n",
    "    for i in range(n):\n",
    "        l.append(i**3)\n",
    "        \n",
    "    return l\n"
   ]
  },
  {
   "cell_type": "code",
   "execution_count": 40,
   "metadata": {},
   "outputs": [
    {
     "data": {
      "text/plain": [
       "[0, 1, 8, 27, 64, 125]"
      ]
     },
     "execution_count": 40,
     "metadata": {},
     "output_type": "execute_result"
    }
   ],
   "source": [
    "# gen_cube(60000) - it will take time \n",
    "gen_cube(6)\n",
    "\n",
    "# it is memorize the list "
   ]
  },
  {
   "cell_type": "code",
   "execution_count": 42,
   "metadata": {},
   "outputs": [],
   "source": [
    "# print() - it return none type"
   ]
  },
  {
   "cell_type": "code",
   "execution_count": null,
   "metadata": {},
   "outputs": [],
   "source": []
  },
  {
   "cell_type": "code",
   "execution_count": 43,
   "metadata": {},
   "outputs": [],
   "source": [
    "def gen_cube(n):\n",
    "    l = []\n",
    "    for i in range(n):\n",
    "        yield i**3\n"
   ]
  },
  {
   "cell_type": "code",
   "execution_count": 44,
   "metadata": {},
   "outputs": [
    {
     "data": {
      "text/plain": [
       "<generator object gen_cube at 0x000002569CD22580>"
      ]
     },
     "execution_count": 44,
     "metadata": {},
     "output_type": "execute_result"
    }
   ],
   "source": [
    "gen_cube(10)# it will return generate object"
   ]
  },
  {
   "cell_type": "code",
   "execution_count": null,
   "metadata": {},
   "outputs": [],
   "source": []
  },
  {
   "cell_type": "code",
   "execution_count": 46,
   "metadata": {},
   "outputs": [
    {
     "name": "stdout",
     "output_type": "stream",
     "text": [
      "0\n",
      "1\n",
      "8\n",
      "27\n",
      "64\n",
      "125\n",
      "216\n",
      "343\n",
      "512\n"
     ]
    }
   ],
   "source": [
    "for i in gen_cube(9):\n",
    "    print(i)"
   ]
  },
  {
   "cell_type": "code",
   "execution_count": 49,
   "metadata": {},
   "outputs": [],
   "source": [
    "def fib(n):\n",
    "    a =1 \n",
    "    b =1\n",
    "    for i in range(n):\n",
    "        yield a,i\n",
    "        a,b = b,a+b "
   ]
  },
  {
   "cell_type": "markdown",
   "metadata": {},
   "source": [
    "#### File System"
   ]
  },
  {
   "cell_type": "code",
   "execution_count": 50,
   "metadata": {},
   "outputs": [],
   "source": [
    "f = open(\"testing.txt\",\"w\")"
   ]
  },
  {
   "cell_type": "code",
   "execution_count": 51,
   "metadata": {},
   "outputs": [
    {
     "data": {
      "text/plain": [
       "31"
      ]
     },
     "execution_count": 51,
     "metadata": {},
     "output_type": "execute_result"
    }
   ],
   "source": [
    "f.write(\"this is my first file operation\")"
   ]
  },
  {
   "cell_type": "code",
   "execution_count": 52,
   "metadata": {},
   "outputs": [],
   "source": [
    "f.close()"
   ]
  },
  {
   "cell_type": "code",
   "execution_count": null,
   "metadata": {},
   "outputs": [],
   "source": []
  },
  {
   "cell_type": "code",
   "execution_count": 56,
   "metadata": {},
   "outputs": [],
   "source": [
    "r =open(\"tester.txt\",\"r\")"
   ]
  },
  {
   "cell_type": "code",
   "execution_count": 57,
   "metadata": {},
   "outputs": [
    {
     "data": {
      "text/plain": [
       "'this is my first file operation'"
      ]
     },
     "execution_count": 57,
     "metadata": {},
     "output_type": "execute_result"
    }
   ],
   "source": [
    "r.read()"
   ]
  },
  {
   "cell_type": "code",
   "execution_count": 58,
   "metadata": {},
   "outputs": [
    {
     "data": {
      "text/plain": [
       "''"
      ]
     },
     "execution_count": 58,
     "metadata": {},
     "output_type": "execute_result"
    }
   ],
   "source": [
    "r.read()#because end of line. "
   ]
  },
  {
   "cell_type": "code",
   "execution_count": 60,
   "metadata": {},
   "outputs": [],
   "source": [
    "# reset the cursor or read file from particular index"
   ]
  },
  {
   "cell_type": "code",
   "execution_count": 63,
   "metadata": {},
   "outputs": [
    {
     "data": {
      "text/plain": [
       "5"
      ]
     },
     "execution_count": 63,
     "metadata": {},
     "output_type": "execute_result"
    }
   ],
   "source": [
    "r.seek(5)"
   ]
  },
  {
   "cell_type": "code",
   "execution_count": 64,
   "metadata": {},
   "outputs": [
    {
     "data": {
      "text/plain": [
       "'is my first file operation'"
      ]
     },
     "execution_count": 64,
     "metadata": {},
     "output_type": "execute_result"
    }
   ],
   "source": [
    "r.read()"
   ]
  },
  {
   "cell_type": "code",
   "execution_count": 66,
   "metadata": {},
   "outputs": [],
   "source": [
    "# what position cursor is available "
   ]
  },
  {
   "cell_type": "code",
   "execution_count": 67,
   "metadata": {},
   "outputs": [
    {
     "data": {
      "text/plain": [
       "31"
      ]
     },
     "execution_count": 67,
     "metadata": {},
     "output_type": "execute_result"
    }
   ],
   "source": [
    "r.tell()"
   ]
  },
  {
   "cell_type": "code",
   "execution_count": 70,
   "metadata": {},
   "outputs": [],
   "source": [
    "f = open(\"tester.txt\",\"r+\")"
   ]
  },
  {
   "cell_type": "code",
   "execution_count": 71,
   "metadata": {},
   "outputs": [
    {
     "data": {
      "text/plain": [
       "'this is my first file operation\\n'"
      ]
     },
     "execution_count": 71,
     "metadata": {},
     "output_type": "execute_result"
    }
   ],
   "source": [
    "f.readline()"
   ]
  },
  {
   "cell_type": "markdown",
   "metadata": {},
   "source": [
    "# read vs readline\n",
    "- read reads the whole content\n",
    "- readline read lines"
   ]
  },
  {
   "cell_type": "code",
   "execution_count": 75,
   "metadata": {},
   "outputs": [
    {
     "data": {
      "text/plain": [
       "''"
      ]
     },
     "execution_count": 75,
     "metadata": {},
     "output_type": "execute_result"
    }
   ],
   "source": [
    "f.readline()"
   ]
  },
  {
   "cell_type": "code",
   "execution_count": 76,
   "metadata": {},
   "outputs": [
    {
     "data": {
      "text/plain": [
       "0"
      ]
     },
     "execution_count": 76,
     "metadata": {},
     "output_type": "execute_result"
    }
   ],
   "source": [
    "f.seek(0)"
   ]
  },
  {
   "cell_type": "code",
   "execution_count": 77,
   "metadata": {},
   "outputs": [
    {
     "data": {
      "text/plain": [
       "'this is my first file operation\\n'"
      ]
     },
     "execution_count": 77,
     "metadata": {},
     "output_type": "execute_result"
    }
   ],
   "source": [
    "f.readline()"
   ]
  },
  {
   "cell_type": "code",
   "execution_count": 78,
   "metadata": {},
   "outputs": [
    {
     "data": {
      "text/plain": [
       "'this is my first file operationthis is my first file operationthis is my first file operationthis is my first file operationthis is my first file operationthis is my first file operationthis is my first file operationthis is my first file operationthis is my first file operationthis is my first file operationthis is my first file operationthis is my first file operationthis is my first file operationthis is my first file operationthis is my first file operationthis is my first file operationthis is my first file operationthis is my first file operationthis is my first file operationthis is my first file operationthis is my first file operationthis is my first file operationthis is my first file operationthis is my first file operationthis is my first file operationthis is my first file operationthis is my first file operationthis is my first file operationthis is my first file operationthis is my first file operationthis is my first file operationthis is my first file operationthis is my first file operationthis is my first file operationthis is my first file operationthis is my first file operationthis is my first file operationthis is my first file operationthis is my first file operationthis is my first file operationthis is my first file operationthis is my first file operationthis is my first file operationthis is my first file operationthis is my first file operationthis is my first file operationthis is my first file operationthis is my first file operationthis is my first file operationthis is my first file operationthis is my first file operationthis is my first file operationthis is my first file operationthis is my first file operationthis is my first file operationthis is my first file operationthis is my first file operationthis is my first file operationthis is my first file operationthis is my first file operationthis is my first file operationthis is my first file operationthis is my first file operationthis is my first file operationthis is my first file operationthis is my first file operationthis is my first file operationthis is my first file operationthis is my first file operationthis is my first file operationthis is my first file operationthis is my first file operationthis is my first file operation'"
      ]
     },
     "execution_count": 78,
     "metadata": {},
     "output_type": "execute_result"
    }
   ],
   "source": [
    "f.readline()"
   ]
  },
  {
   "cell_type": "code",
   "execution_count": 80,
   "metadata": {},
   "outputs": [
    {
     "data": {
      "text/plain": [
       "0"
      ]
     },
     "execution_count": 80,
     "metadata": {},
     "output_type": "execute_result"
    }
   ],
   "source": [
    "f.seek(0)"
   ]
  },
  {
   "cell_type": "markdown",
   "metadata": {},
   "source": [
    "f.close()"
   ]
  },
  {
   "cell_type": "code",
   "execution_count": null,
   "metadata": {},
   "outputs": [],
   "source": []
  },
  {
   "cell_type": "code",
   "execution_count": 81,
   "metadata": {},
   "outputs": [],
   "source": [
    "f.close()"
   ]
  },
  {
   "cell_type": "code",
   "execution_count": 85,
   "metadata": {},
   "outputs": [
    {
     "name": "stdout",
     "output_type": "stream",
     "text": [
      "this is my first file operation\n",
      "\n",
      "this is my first file operationthis is my first file operationthis is my first file operationthis is my first file operationthis is my first file operationthis is my first file operationthis is my first file\n",
      "\n",
      "\n",
      "\n",
      " operationthis is my first fil\n",
      "\n",
      " e operationthis is my first file operationthis is m\n",
      "\n",
      " y first file operationthis is my first file operationthis is \n",
      "\n",
      " my first file operationthis is my first file operationthis is\n",
      "\n",
      "  my first file operationthis is my fir\n",
      "\n",
      "  st file operationthis is my first file operationthis is my first file operationthis is my first file operation\n",
      "\n",
      "  this is my first file ope\n",
      "\n",
      "  rationthis is my first file operati\n",
      "\n",
      "  onthis is my first file operationthis is my \n",
      "\n",
      "  first file operationthis is my first file operationthis is my \n",
      "\n",
      "  first file operationthis is my first fi\n",
      "\n",
      "  le operationthis is my first file operationthis is my fir\n",
      "\n",
      "  st file operationthis is my first file operationthis is my first file operat\n",
      "\n",
      "  ionthis is my first file operationth\n",
      "\n",
      "  is is my first file operationthis is my first file operationthi\n",
      "\n",
      "  s is my first file operationthis is my fi\n",
      "\n",
      "  rst file operationthis is my\n",
      "\n",
      "   first file operationthis is my first file operat\n",
      "\n",
      "   ionthis is my first file operationthis is my first file\n",
      "\n",
      "   operationthis is my first file \n",
      "\n",
      "   operationthis is my first\n",
      "\n",
      "    file operationthis\n",
      "\n",
      "    is my first file operationthis is my first \n",
      "\n",
      "    \\file operationthis is my first file \\\n",
      "\n",
      "    \\operationthis is my first file operationthis is my first file operati\n",
      "\n",
      "    onthis is my first file operation\n",
      "\n",
      "    this is my first file operationt\n",
      "\n",
      "    his is my first file operationthis\n",
      "\n",
      "     is my first file operationthis is my f\n",
      "\n",
      "     irst file operationthis is my first file operation\n",
      "\n",
      "     this is my first file operationthis is my first file operationthis is \n",
      "\n",
      "    my first file operationthis is my first file op\n",
      "\n",
      "    erationthis is my first file operationthis is my\n",
      "\n",
      "     first file operationthis is my first file operat\n",
      "\n",
      "     ionthis is my first file operationthis is my first fi\n",
      "\n",
      "     le operationthis is my first file operationthi\n",
      "\n",
      "     s is my first file operationthis is my first f\n",
      "\n",
      "     ile operationthis is my first file operationth\n",
      "\n",
      "     is is my first file operationthis is my\n",
      "\n",
      "      first file operationthis is my first f\n",
      "\n",
      "      ile operationthis is my first file ope\n",
      "\n",
      "      rationthis is my first file operationthi\n",
      "\n",
      "      s is my first file operationthis is my fir\n",
      "\n",
      "      st file operationthis is my \n",
      "\n",
      "       file operationthis is my first file operation\n"
     ]
    }
   ],
   "source": [
    "f = open(\"tester.txt\",\"r+\")\n",
    "for line in f:\n",
    "    print(line)"
   ]
  },
  {
   "cell_type": "code",
   "execution_count": 86,
   "metadata": {},
   "outputs": [
    {
     "data": {
      "text/plain": [
       "32"
      ]
     },
     "execution_count": 86,
     "metadata": {},
     "output_type": "execute_result"
    }
   ],
   "source": [
    "f.write(\"Hi Hi Hi Hi Hi Hi Hi Hi Hi Hi Hi\")"
   ]
  },
  {
   "cell_type": "code",
   "execution_count": 87,
   "metadata": {},
   "outputs": [
    {
     "name": "stdout",
     "output_type": "stream",
     "text": [
      "this is my first file operation\n",
      "\n",
      "this is my first file operationthis is my first file operationthis is my first file operationthis is my first file operationthis is my first file operationthis is my first file operationthis is my first file\n",
      "\n",
      "\n",
      "\n",
      " operationthis is my first fil\n",
      "\n",
      " e operationthis is my first file operationthis is m\n",
      "\n",
      " y first file operationthis is my first file operationthis is \n",
      "\n",
      " my first file operationthis is my first file operationthis is\n",
      "\n",
      "  my first file operationthis is my fir\n",
      "\n",
      "  st file operationthis is my first file operationthis is my first file operationthis is my first file operation\n",
      "\n",
      "  this is my first file ope\n",
      "\n",
      "  rationthis is my first file operati\n",
      "\n",
      "  onthis is my first file operationthis is my \n",
      "\n",
      "  first file operationthis is my first file operationthis is my \n",
      "\n",
      "  first file operationthis is my first fi\n",
      "\n",
      "  le operationthis is my first file operationthis is my fir\n",
      "\n",
      "  st file operationthis is my first file operationthis is my first file operat\n",
      "\n",
      "  ionthis is my first file operationth\n",
      "\n",
      "  is is my first file operationthis is my first file operationthi\n",
      "\n",
      "  s is my first file operationthis is my fi\n",
      "\n",
      "  rst file operationthis is my\n",
      "\n",
      "   first file operationthis is my first file operat\n",
      "\n",
      "   ionthis is my first file operationthis is my first file\n",
      "\n",
      "   operationthis is my first file \n",
      "\n",
      "   operationthis is my first\n",
      "\n",
      "    file operationthis\n",
      "\n",
      "    is my first file operationthis is my first \n",
      "\n",
      "    \\file operationthis is my first file \\\n",
      "\n",
      "    \\operationthis is my first file operationthis is my first file operati\n",
      "\n",
      "    onthis is my first file operation\n",
      "\n",
      "    this is my first file operationt\n",
      "\n",
      "    his is my first file operationthis\n",
      "\n",
      "     is my first file operationthis is my f\n",
      "\n",
      "     irst file operationthis is my first file operation\n",
      "\n",
      "     this is my first file operationthis is my first file operationthis is \n",
      "\n",
      "    my first file operationthis is my first file op\n",
      "\n",
      "    erationthis is my first file operationthis is my\n",
      "\n",
      "     first file operationthis is my first file operat\n",
      "\n",
      "     ionthis is my first file operationthis is my first fi\n",
      "\n",
      "     le operationthis is my first file operationthi\n",
      "\n",
      "     s is my first file operationthis is my first f\n",
      "\n",
      "     ile operationthis is my first file operationth\n",
      "\n",
      "     is is my first file operationthis is my\n",
      "\n",
      "      first file operationthis is my first f\n",
      "\n",
      "      ile operationthis is my first file ope\n",
      "\n",
      "      rationthis is my first file operationthi\n",
      "\n",
      "      s is my first file operationthis is my fir\n",
      "\n",
      "      st file operationthis is my \n",
      "\n",
      "       file operationthis is my first file operation\n"
     ]
    }
   ],
   "source": [
    "f = open(\"tester.txt\",\"r+\")\n",
    "for line in f:\n",
    "    print(line)"
   ]
  },
  {
   "cell_type": "code",
   "execution_count": 90,
   "metadata": {},
   "outputs": [],
   "source": [
    "f.close()"
   ]
  },
  {
   "cell_type": "code",
   "execution_count": 91,
   "metadata": {},
   "outputs": [
    {
     "name": "stdout",
     "output_type": "stream",
     "text": [
      "this is my first file operation\n",
      "\n",
      "this is my first file operationthis is my first file operationthis is my first file operationthis is my first file operationthis is my first file operationthis is my first file operationthis is my first file\n",
      "\n",
      "\n",
      "\n",
      " operationthis is my first fil\n",
      "\n",
      " e operationthis is my first file operationthis is m\n",
      "\n",
      " y first file operationthis is my first file operationthis is \n",
      "\n",
      " my first file operationthis is my first file operationthis is\n",
      "\n",
      "  my first file operationthis is my fir\n",
      "\n",
      "  st file operationthis is my first file operationthis is my first file operationthis is my first file operation\n",
      "\n",
      "  this is my first file ope\n",
      "\n",
      "  rationthis is my first file operati\n",
      "\n",
      "  onthis is my first file operationthis is my \n",
      "\n",
      "  first file operationthis is my first file operationthis is my \n",
      "\n",
      "  first file operationthis is my first fi\n",
      "\n",
      "  le operationthis is my first file operationthis is my fir\n",
      "\n",
      "  st file operationthis is my first file operationthis is my first file operat\n",
      "\n",
      "  ionthis is my first file operationth\n",
      "\n",
      "  is is my first file operationthis is my first file operationthi\n",
      "\n",
      "  s is my first file operationthis is my fi\n",
      "\n",
      "  rst file operationthis is my\n",
      "\n",
      "   first file operationthis is my first file operat\n",
      "\n",
      "   ionthis is my first file operationthis is my first file\n",
      "\n",
      "   operationthis is my first file \n",
      "\n",
      "   operationthis is my first\n",
      "\n",
      "    file operationthis\n",
      "\n",
      "    is my first file operationthis is my first \n",
      "\n",
      "    \\file operationthis is my first file \\\n",
      "\n",
      "    \\operationthis is my first file operationthis is my first file operati\n",
      "\n",
      "    onthis is my first file operation\n",
      "\n",
      "    this is my first file operationt\n",
      "\n",
      "    his is my first file operationthis\n",
      "\n",
      "     is my first file operationthis is my f\n",
      "\n",
      "     irst file operationthis is my first file operation\n",
      "\n",
      "     this is my first file operationthis is my first file operationthis is \n",
      "\n",
      "    my first file operationthis is my first file op\n",
      "\n",
      "    erationthis is my first file operationthis is my\n",
      "\n",
      "     first file operationthis is my first file operat\n",
      "\n",
      "     ionthis is my first file operationthis is my first fi\n",
      "\n",
      "     le operationthis is my first file operationthi\n",
      "\n",
      "     s is my first file operationthis is my first f\n",
      "\n",
      "     ile operationthis is my first file operationth\n",
      "\n",
      "     is is my first file operationthis is my\n",
      "\n",
      "      first file operationthis is my first f\n",
      "\n",
      "      ile operationthis is my first file ope\n",
      "\n",
      "      rationthis is my first file operationthi\n",
      "\n",
      "      s is my first file operationthis is my fir\n",
      "\n",
      "      st file operationthis is my \n",
      "\n",
      "       file operationthis is my first file operation\n"
     ]
    }
   ],
   "source": [
    "\n",
    "f = open(\"tester.txt\",\"r+\")\n",
    "for line in f:\n",
    "    print(line)"
   ]
  },
  {
   "cell_type": "code",
   "execution_count": null,
   "metadata": {},
   "outputs": [],
   "source": []
  },
  {
   "cell_type": "code",
   "execution_count": null,
   "metadata": {},
   "outputs": [],
   "source": []
  },
  {
   "cell_type": "code",
   "execution_count": 92,
   "metadata": {},
   "outputs": [],
   "source": [
    "f.close()"
   ]
  },
  {
   "cell_type": "code",
   "execution_count": 93,
   "metadata": {},
   "outputs": [],
   "source": [
    "f = open(\"tester.txt\",\"r+\")\n",
    "f.seek(0)\n",
    "f.write(\"hiiiiiiiiiiiiiiiiiiiiiiiiiiiiiiiiiiiiiiiiiiiiiiii\")\n",
    "f.close()"
   ]
  },
  {
   "cell_type": "code",
   "execution_count": 99,
   "metadata": {},
   "outputs": [
    {
     "data": {
      "text/plain": [
       "['hiiiiiiiiiiiiiiiiiiiiiiiiiiiiiiiiiiiiiiiiiiiiiiii file operationthis is my first file operationthis is my first file operationthis is my first file operationthis is my first file operationthis is my first file operationthis is my first file\\n',\n",
       " '\\n',\n",
       " ' operationthis is my first fil\\n',\n",
       " ' e operationthis is my first file operationthis is m\\n',\n",
       " ' y first file operationthis is my first file operationthis is \\n',\n",
       " ' my first file operationthis is my first file operationthis is\\n',\n",
       " '  my first file operationthis is my fir\\n',\n",
       " '  st file operationthis is my first file operationthis is my first file operationthis is my first file operation\\n',\n",
       " '  this is my first file ope\\n',\n",
       " '  rationthis is my first file operati\\n',\n",
       " '  onthis is my first file operationthis is my \\n',\n",
       " '  first file operationthis is my first file operationthis is my \\n',\n",
       " '  first file operationthis is my first fi\\n',\n",
       " '  le operationthis is my first file operationthis is my fir\\n',\n",
       " '  st file operationthis is my first file operationthis is my first file operat\\n',\n",
       " '  ionthis is my first file operationth\\n',\n",
       " '  is is my first file operationthis is my first file operationthi\\n',\n",
       " '  s is my first file operationthis is my fi\\n',\n",
       " '  rst file operationthis is my\\n',\n",
       " '   first file operationthis is my first file operat\\n',\n",
       " '   ionthis is my first file operationthis is my first file\\n',\n",
       " '   operationthis is my first file \\n',\n",
       " '   operationthis is my first\\n',\n",
       " '    file operationthis\\n',\n",
       " '    is my first file operationthis is my first \\n',\n",
       " '    \\\\file operationthis is my first file \\\\\\n',\n",
       " '    \\\\operationthis is my first file operationthis is my first file operati\\n',\n",
       " '    onthis is my first file operation\\n',\n",
       " '    this is my first file operationt\\n',\n",
       " '    his is my first file operationthis\\n',\n",
       " '     is my first file operationthis is my f\\n',\n",
       " '     irst file operationthis is my first file operation\\n',\n",
       " '     this is my first file operationthis is my first file operationthis is \\n',\n",
       " '    my first file operationthis is my first file op\\n',\n",
       " '    erationthis is my first file operationthis is my\\n',\n",
       " '     first file operationthis is my first file operat\\n',\n",
       " '     ionthis is my first file operationthis is my first fi\\n',\n",
       " '     le operationthis is my first file operationthi\\n',\n",
       " '     s is my first file operationthis is my first f\\n',\n",
       " '     ile operationthis is my first file operationth\\n',\n",
       " '     is is my first file operationthis is my\\n',\n",
       " '      first file operationthis is my first f\\n',\n",
       " '      ile operationthis is my first file ope\\n',\n",
       " '      rationthis is my first file operationthi\\n',\n",
       " '      s is my first file operationthis is my fir\\n',\n",
       " '      st file operationthis is my \\n',\n",
       " '       file operationthis is my first file operation']"
      ]
     },
     "execution_count": 99,
     "metadata": {},
     "output_type": "execute_result"
    }
   ],
   "source": [
    "# write Aditya where hiiiiiiiiiiiiiiiiiiiiiiiiiiiiiiiiiiiiiiiiiiiiiiii\n",
    "f= open(\"tester.txt\",\"r+\")\n",
    "f.readlines() # return list"
   ]
  },
  {
   "cell_type": "code",
   "execution_count": 101,
   "metadata": {},
   "outputs": [
    {
     "data": {
      "text/plain": [
       "0"
      ]
     },
     "execution_count": 101,
     "metadata": {},
     "output_type": "execute_result"
    }
   ],
   "source": [
    "f.seek(0)"
   ]
  },
  {
   "cell_type": "code",
   "execution_count": 102,
   "metadata": {},
   "outputs": [
    {
     "data": {
      "text/plain": [
       "47"
      ]
     },
     "execution_count": 102,
     "metadata": {},
     "output_type": "execute_result"
    }
   ],
   "source": [
    "# how many lines in the\n",
    "len(f.readlines())\n"
   ]
  },
  {
   "cell_type": "code",
   "execution_count": 103,
   "metadata": {},
   "outputs": [
    {
     "data": {
      "text/plain": [
       "0"
      ]
     },
     "execution_count": 103,
     "metadata": {},
     "output_type": "execute_result"
    }
   ],
   "source": [
    "f.seek(0)"
   ]
  },
  {
   "cell_type": "code",
   "execution_count": 104,
   "metadata": {},
   "outputs": [],
   "source": [
    "l = f.readlines()"
   ]
  },
  {
   "cell_type": "code",
   "execution_count": 106,
   "metadata": {},
   "outputs": [
    {
     "data": {
      "text/plain": [
       "'hiiiiiiiiiiiiiiiiiiiiiiiiiiiiiiiiiiiiiiiiiiiiiiii file operationthis is my first file operationthis is my first file operationthis is my first file operationthis is my first file operationthis is my first file operationthis is my first file\\n'"
      ]
     },
     "execution_count": 106,
     "metadata": {},
     "output_type": "execute_result"
    }
   ],
   "source": [
    "l[0]"
   ]
  },
  {
   "cell_type": "code",
   "execution_count": 108,
   "metadata": {},
   "outputs": [
    {
     "data": {
      "text/plain": [
       "'\\n'"
      ]
     },
     "execution_count": 108,
     "metadata": {},
     "output_type": "execute_result"
    }
   ],
   "source": [
    "l[1]"
   ]
  },
  {
   "cell_type": "code",
   "execution_count": 109,
   "metadata": {},
   "outputs": [
    {
     "data": {
      "text/plain": [
       "['hiiiiiiiiiiiiiiiiiiiiiiiiiiiiiiiiiiiiiiiiiiiiiiii',\n",
       " 'file',\n",
       " 'operationthis',\n",
       " 'is',\n",
       " 'my',\n",
       " 'first',\n",
       " 'file',\n",
       " 'operationthis',\n",
       " 'is',\n",
       " 'my',\n",
       " 'first',\n",
       " 'file',\n",
       " 'operationthis',\n",
       " 'is',\n",
       " 'my',\n",
       " 'first',\n",
       " 'file',\n",
       " 'operationthis',\n",
       " 'is',\n",
       " 'my',\n",
       " 'first',\n",
       " 'file',\n",
       " 'operationthis',\n",
       " 'is',\n",
       " 'my',\n",
       " 'first',\n",
       " 'file',\n",
       " 'operationthis',\n",
       " 'is',\n",
       " 'my',\n",
       " 'first',\n",
       " 'file']"
      ]
     },
     "execution_count": 109,
     "metadata": {},
     "output_type": "execute_result"
    }
   ],
   "source": [
    "l[0].split()"
   ]
  },
  {
   "cell_type": "code",
   "execution_count": 113,
   "metadata": {},
   "outputs": [
    {
     "data": {
      "text/plain": [
       "['hiiiiiiiiiiiiiiiiiiiiiiiiiiiiiiiiiiiiiiiiiiiiiiii',\n",
       " 'file',\n",
       " 'operationthis',\n",
       " 'is',\n",
       " 'my',\n",
       " 'first',\n",
       " 'file',\n",
       " 'operationthis',\n",
       " 'is',\n",
       " 'my',\n",
       " 'first',\n",
       " 'file',\n",
       " 'operationthis',\n",
       " 'is',\n",
       " 'my',\n",
       " 'first',\n",
       " 'file',\n",
       " 'operationthis',\n",
       " 'is',\n",
       " 'my',\n",
       " 'first',\n",
       " 'file',\n",
       " 'operationthis',\n",
       " 'is',\n",
       " 'my',\n",
       " 'first',\n",
       " 'file',\n",
       " 'operationthis',\n",
       " 'is',\n",
       " 'my',\n",
       " 'first',\n",
       " 'file']"
      ]
     },
     "execution_count": 113,
     "metadata": {},
     "output_type": "execute_result"
    }
   ],
   "source": [
    "l[0].split()"
   ]
  },
  {
   "cell_type": "code",
   "execution_count": 115,
   "metadata": {},
   "outputs": [],
   "source": [
    "# fetch first word of the first paragraph of each words \n",
    "l1=[]\n",
    "for i in l[0].split():\n",
    "    l1.append(i[0])"
   ]
  },
  {
   "cell_type": "code",
   "execution_count": 117,
   "metadata": {},
   "outputs": [
    {
     "name": "stdout",
     "output_type": "stream",
     "text": [
      "['h', 'f', 'o', 'i', 'm', 'f', 'f', 'o', 'i', 'm', 'f', 'f', 'o', 'i', 'm', 'f', 'f', 'o', 'i', 'm', 'f', 'f', 'o', 'i', 'm', 'f', 'f', 'o', 'i', 'm', 'f', 'f']\n"
     ]
    }
   ],
   "source": [
    "print(l1)"
   ]
  },
  {
   "cell_type": "code",
   "execution_count": null,
   "metadata": {},
   "outputs": [],
   "source": []
  }
 ],
 "metadata": {
  "kernelspec": {
   "display_name": "Python 3",
   "language": "python",
   "name": "python3"
  },
  "language_info": {
   "codemirror_mode": {
    "name": "ipython",
    "version": 3
   },
   "file_extension": ".py",
   "mimetype": "text/x-python",
   "name": "python",
   "nbconvert_exporter": "python",
   "pygments_lexer": "ipython3",
   "version": "3.8.5"
  }
 },
 "nbformat": 4,
 "nbformat_minor": 4
}
